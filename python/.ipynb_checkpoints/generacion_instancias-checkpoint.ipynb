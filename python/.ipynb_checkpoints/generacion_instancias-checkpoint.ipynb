{
 "cells": [
  {
   "cell_type": "code",
   "execution_count": 2,
   "metadata": {
    "scrolled": false
   },
   "outputs": [],
   "source": [
    "import math, subprocess, time, random, os, shutil, sys\n",
    "import pandas as pd\n",
    "import numpy as np\n",
    "from IPython.display import display, clear_output\n",
    "import seaborn as sns\n",
    "import matplotlib.pyplot as plt\n",
    "from tqdm.notebook import tqdm\n",
    "import tsplib95 as tl\n",
    "import os.path\n",
    "import urllib.request\n",
    "import re"
   ]
  },
  {
   "cell_type": "markdown",
   "metadata": {},
   "source": [
    "## Funciones necesarias:"
   ]
  },
  {
   "cell_type": "code",
   "execution_count": 3,
   "metadata": {},
   "outputs": [],
   "source": [
    "#esta funcion descarga todos los archivos que estan en \"/downloads/urls.txt\"\n",
    "#retorna una lisa con las direcciones de cada archivo\n",
    "def descargar_preinstancias():\n",
    "    links = open('urls.txt', 'r')\n",
    "    preinstancias = []\n",
    "    for link in tqdm(links, \"Descargando\"):\n",
    "        link = link.strip()\n",
    "        name = link.rsplit('/', 1)[-1]\n",
    "        filename = os.path.join('downloads', name)\n",
    "\n",
    "        if not os.path.isfile(filename):\n",
    "            try:\n",
    "                urllib.request.urlretrieve(link, filename)\n",
    "            except Exception as inst:\n",
    "                print(inst)\n",
    "                print('  Encountered unknown error. Continuing.\\n URL:'+link)\n",
    "\n",
    "        preinstancias.append(name)\n",
    "\n",
    "    return preinstancias"
   ]
  },
  {
   "cell_type": "code",
   "execution_count": 4,
   "metadata": {},
   "outputs": [],
   "source": [
    "# esta es la misma funcion dada por la catedra, modificada para devolver n y m\n",
    "failed = []\n",
    "def generar_instancia(archivo_entrada, archivo_salida):\n",
    "    salida = open(archivo_salida,'w')\n",
    "    prob = tl.load(archivo_entrada)\n",
    "\n",
    "    grafo = prob.get_graph()\n",
    "    n = grafo.number_of_nodes()\n",
    "    m = grafo.number_of_edges()\n",
    "    print(n,m, file=salida)\n",
    "    \n",
    "    for u,v in grafo.edges:\n",
    "        if u == 0 or v == 0:\n",
    "            os.remove(archivo_entrada)\n",
    "            failed.append(archivo_entrada)\n",
    "            print(\"El archivo\"+archivo_entrada+\"contiene ceros en las aristas\")\n",
    "            break\n",
    "        if u<v:\n",
    "            print(u,v,grafo.get_edge_data(u,v)['weight'], file=salida)\n",
    "            \n",
    "    return grafo, n , m"
   ]
  },
  {
   "cell_type": "markdown",
   "metadata": {},
   "source": [
    "### Diccionario de resultados:\n",
    "##### El siguiente diccionario es usado para tener los resultados de cada tipo de grafo."
   ]
  },
  {
   "cell_type": "code",
   "execution_count": 5,
   "metadata": {},
   "outputs": [],
   "source": [
    "resultados = {'a280' : 2579,'ali535' : 202310,'att48' : 10628,'att532' : 27686,'bayg29' : 1610,'bays29' : 2020,'berlin52' : 7542,'bier127' : 118282,'brazil58' : 25395,'brd14051' : 468942,'brg180' : 1950,'burma14' : 3323,'ch130' : 6110,'ch150' : 6528,'d198' : 15780,'d493' : 35002,'d657' : 48912,'d1291' : 50801,'d1655' : 62128,'d2103' : 79952,'d18512' : 644650,'dantzig42' : 699,'dsj1000' : 18659688,'eil51' : 426,'eil76' : 538,'fl417' : 11861,'fl1400' : 20127,'fl1577' : 22204,'fl3795' : 28723,'fnl4461' : 182566,'fri26' : 937,'gil262' : 2378,'gr17' : 2085,'gr21' : 2707,'gr24' : 1272,'gr48' : 5046,'gr96' : 55209,'gr120' : 6942,'gr137' : 69853,'gr202' : 40160,'gr229' : 134602,'gr431' : 171414,'gr666' : 294358,'hk48' : 11461,'kroA100' : 21282,'kroB100' : 22141,'kroC100' : 20749,'kroD100' : 21294,'kroE100' : 22068,'kroA150' : 26524,'kroB150' : 26130,'kroA200' : 29368,'kroB200' : 29437,'lin105' : 14379,'lin318' : 42029,'linhp318' : 41345,'nrw1379' : 56638,'p654' : 34643,'pa561' : 2763,'pcb442' : 50778,'pcb1173' : 56892,'pcb3038' : 137694,'pla7397' : 23260728,'pla33810' : 65913275,'pla85900' : 141904862,'pr76' : 108159,'pr107' : 44303,'pr124' : 59030,'pr136' : 96772,'pr144' : 58537,'pr152' : 73682,'pr226' : 80369,'pr264' : 49135,'pr299' : 48191,'pr439' : 107217,'pr1002' : 259045,'pr2392' : 378032,'rat99' : 1211,'rat195' : 2323,'rat575' : 6773,'rat783' : 8806,'rd100' : 7910,'rd400' : 15281,'rl1304' : 252948,'rl1323' : 270199,'rl1889' : 316536,'rl5915' : 565040,'rl5934' : 554070,'rl11849' : 920847,'si175' : 21407,'si535' : 48450,'si1032' : 92650,'st70' : 675,'swiss42' : 1273,'ts225' : 126643,'tsp225' : 3919,'u159' : 42080,'u574' : 36905,'u724' : 41910,'u1060' : 224094,'u1432' : 152970,'u1817' : 57201,'u2152' : 64253,'u2319' : 234256,'ulysses16' : 6859,'ulysses22' : 7013,'usa13509' : 19947008,'vm1084' : 239297,'vm1748' : 336556}"
   ]
  },
  {
   "cell_type": "markdown",
   "metadata": {},
   "source": [
    "## Generacion de instancias:\n",
    "##### Ahora usando las funciones guardaremos en el directorio \"instancias\" los archivos '.txt' y un 'indice.csv' para indexar toda la informacion."
   ]
  },
  {
   "cell_type": "code",
   "execution_count": 6,
   "metadata": {},
   "outputs": [
    {
     "data": {
      "application/vnd.jupyter.widget-view+json": {
       "model_id": "869dd1377fdf4ab8ab90eb995637e9e1",
       "version_major": 2,
       "version_minor": 0
      },
      "text/plain": [
       "Descargando: 0it [00:00, ?it/s]"
      ]
     },
     "metadata": {},
     "output_type": "display_data"
    },
    {
     "data": {
      "application/vnd.jupyter.widget-view+json": {
       "model_id": "95f7bec50dd84a3aa85bde4d8e86eda2",
       "version_major": 2,
       "version_minor": 0
      },
      "text/plain": [
       "Archivos generados:   0%|          | 0/96 [00:00<?, ?it/s]"
      ]
     },
     "metadata": {},
     "output_type": "display_data"
    },
    {
     "name": "stdout",
     "output_type": "stream",
     "text": [
      "El archivo./downloads/si1032.tspcontiene ceros en las aristas\n"
     ]
    }
   ],
   "source": [
    "files = descargar_preinstancias()\n",
    "limite = 2000 # tamano maximo de un archivo a procesar (esto se debe a limitaciones de pc)\n",
    "sin_limite = False\n",
    "filas = []\n",
    "for file in tqdm(files, \"Archivos generados\"):\n",
    "    file_name = file.rsplit('.', 1)[0]\n",
    "    if(int(re.search(r'\\d+', file_name)[0])<limite or sin_limite):\n",
    "        grafo,n,m = generar_instancia(archivo_entrada='./downloads/'+file , archivo_salida='instancias/'+file_name+'.txt')\n",
    "        gral_name = file_name.rsplit('.', 1)[0]\n",
    "        familia = ''.join([i for i in gral_name if not i.isdigit()])\n",
    "        filas.append([file_name,familia,n,m,resultados[gral_name], 'instancias/'+file_name+'.txt'])\n",
    "    \n",
    "pd.DataFrame(filas, columns=[\"nombre\", \"familia\",\"n\", \"m\", \"resultado\", \"path\"]).to_csv(\"instancias/indice.csv\", index=False, header=True)"
   ]
  },
  {
   "cell_type": "code",
   "execution_count": null,
   "metadata": {},
   "outputs": [],
   "source": []
  }
 ],
 "metadata": {
  "kernelspec": {
   "display_name": "Python 3 (ipykernel)",
   "language": "python",
   "name": "python3"
  },
  "language_info": {
   "codemirror_mode": {
    "name": "ipython",
    "version": 3
   },
   "file_extension": ".py",
   "mimetype": "text/x-python",
   "name": "python",
   "nbconvert_exporter": "python",
   "pygments_lexer": "ipython3",
   "version": "3.8.10"
  }
 },
 "nbformat": 4,
 "nbformat_minor": 4
}
