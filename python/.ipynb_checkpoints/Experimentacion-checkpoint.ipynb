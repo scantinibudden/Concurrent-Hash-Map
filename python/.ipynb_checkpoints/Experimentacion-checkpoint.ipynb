{
 "cells": [
  {
   "cell_type": "code",
   "execution_count": 76,
   "id": "cf1dc426",
   "metadata": {},
   "outputs": [],
   "source": [
    "import math, subprocess, time, random, os, shutil, sys\n",
    "import pandas as pd\n",
    "import numpy as np\n",
    "from IPython.display import display, clear_output\n",
    "import seaborn as sns\n",
    "import matplotlib.pyplot as plt\n",
    "from tqdm.notebook import tqdm\n",
    "import re"
   ]
  },
  {
   "cell_type": "code",
   "execution_count": 77,
   "id": "2ace5849",
   "metadata": {},
   "outputs": [],
   "source": [
    "def run_program(test_file, method,n,k,v):\n",
    "    #corre el programa con el metodo indicado en el test file indicado y devuelve el tiempo tomado en ejecutar\n",
    "    #leemos la instancia\n",
    "    \n",
    "    \n",
    "    \n",
    "    start = time.time() #comenzamos a medir el timepo\n",
    "    if(n==0 and k==0 and v==0):\n",
    "        proc = subprocess.Popen([\"../src/tp2\",\"../python/\"+test_file,method],stdout = subprocess.PIPE, stderr=subprocess.PIPE, stdin=subprocess.PIPE, universal_newlines = True) #lanzamos proceso\n",
    "    else:\n",
    "        proc = subprocess.Popen([\"../src/tp2\",\"../python/\"+test_file,method,str(n),str(k),str(v)],stdout = subprocess.PIPE, stderr=subprocess.PIPE, stdin=subprocess.PIPE, universal_newlines = True) #lanzamos proceso\n",
    "    \n",
    "    exit_code = proc.wait()#esperamos a que el proceso termien\n",
    "    \n",
    "    end = time.time() #terminamos de medir el tiempo\n",
    "    \n",
    "    result = str(proc.stdout.read())\n",
    "    #mandamos error de ser necesario \n",
    "    if exit_code != 0: raise RuntimeError(F\"Hubo un error en la experimentacion para el algoritmo: {method} con la instancia {test_file}.\")\n",
    "\n",
    "    result= result.rsplit(\"\\n\", 2)\n",
    "    result_n = result[0].split(' ', 2)[1]\n",
    "    result_first = int(result[1][0])\n",
    "    return (end-start),result_n,result_first #devolvemos el timepo"
   ]
  },
  {
   "cell_type": "code",
   "execution_count": 78,
   "id": "e8631ea2",
   "metadata": {},
   "outputs": [],
   "source": [
    "def run_experiments(name = \"exp\"):\n",
    "    #recibe un nombre para darle al archivo de salida y lo que hace es correr todos los experimentos que se encuentren en la lista llamada experiments que debe ser generada con anterioridad\n",
    "    columns = [\"nombre\",\"familia\",\"exp_name\", \"method\", \"time\",\"resultado\",\"n\",\"m\",\"resultado_exp\",\"first\"]\n",
    "    rows = []\n",
    "    j = 1\n",
    "    T =10 # Numero de veces que se ejecuta cada experimento (para mayor fidelidad del tiempo).\n",
    "    explen = str(len(experiments))\n",
    "    \n",
    "    \n",
    "    for exp in tqdm(experiments, \"Completed experiments\"):\n",
    "#         print(exp)\n",
    "        times = []\n",
    "    \n",
    "        for i in range(0, T):\n",
    "            time,res,first= run_program(exp[5], exp[6],exp[7],exp[8],exp[9])\n",
    "            times.append(time)\n",
    "        \n",
    "        rows.append([exp[0], exp[1],name, exp[6], np.mean(times),exp[4],exp[2],exp[3],res,first])\n",
    "        j +=1\n",
    "    result = pd.DataFrame(rows, columns=columns)\n",
    "    \n",
    "    if os.path.isfile(\"results/result.csv\"):\n",
    "        df = pd.read_csv(\"results/result.csv\")\n",
    "        df = df[df.exp_name != name]\n",
    "        df = pd.concat([df, result], ignore_index = True, axis = 0)\n",
    "    else:\n",
    "        df = result\n",
    "    \n",
    "    \n",
    "    df.to_csv(\"results/result.csv\", index=False, header=True)"
   ]
  },
  {
   "cell_type": "markdown",
   "id": "daef4463",
   "metadata": {},
   "source": [
    "### Primer experimento\n",
    "##### basicamente el codigo de la celda de abajo es un codigo generico corriendo un experimento\n",
    "Hay que elegir los parametros n,k,v (si es que usamos ts)\n",
    "Hay un parametro familia, este esta de ejemplo para que se vea como se puede fragmentar los datos de entrada, pero ahi filtran como quieren\n",
    "#### El exp name tiene que ser distinto por cada experimento, porque sino se va a borrar todo\n",
    "hg = heu golos\\\n",
    "hagm = heu agm\\\n",
    "bl = bus local\\\n",
    "ts =  tabu - > esta con mas parametros\n",
    "#### todo experimento que se corra sera guardado en \"python/results/results.csv\" de ahi pueden sacar toda la info, tiempo, resultado dado, resultado optimo, todo.. de ahi sacan para hacer graficos filtrando de ese csv"
   ]
  },
  {
   "cell_type": "code",
   "execution_count": 79,
   "id": "bbe20d10",
   "metadata": {
    "scrolled": true
   },
   "outputs": [
    {
     "data": {
      "application/vnd.jupyter.widget-view+json": {
       "model_id": "f6b72412502a44138a9b179468c6bf65",
       "version_major": 2,
       "version_minor": 0
      },
      "text/plain": [
       "Completed experiments:   0%|          | 0/1 [00:00<?, ?it/s]"
      ]
     },
     "metadata": {},
     "output_type": "display_data"
    },
    {
     "ename": "RuntimeError",
     "evalue": "Hubo un error en la experimentacion para el algoritmo: ts con la instancia instancias/gr96.txt.",
     "output_type": "error",
     "traceback": [
      "\u001b[0;31m---------------------------------------------------------------------------\u001b[0m",
      "\u001b[0;31mRuntimeError\u001b[0m                              Traceback (most recent call last)",
      "\u001b[0;32m/tmp/ipykernel_7097/2766184469.py\u001b[0m in \u001b[0;36m<module>\u001b[0;34m\u001b[0m\n\u001b[1;32m     21\u001b[0m     \u001b[0;31m#llenamos el buffer de exps...\u001b[0m\u001b[0;34m\u001b[0m\u001b[0;34m\u001b[0m\u001b[0;34m\u001b[0m\u001b[0m\n\u001b[1;32m     22\u001b[0m \u001b[0;34m\u001b[0m\u001b[0m\n\u001b[0;32m---> 23\u001b[0;31m \u001b[0mrun_experiments\u001b[0m\u001b[0;34m(\u001b[0m\u001b[0mexp_name\u001b[0m\u001b[0;34m)\u001b[0m\u001b[0;34m\u001b[0m\u001b[0;34m\u001b[0m\u001b[0m\n\u001b[0m",
      "\u001b[0;32m/tmp/ipykernel_7097/3731922481.py\u001b[0m in \u001b[0;36mrun_experiments\u001b[0;34m(name)\u001b[0m\n\u001b[1;32m     13\u001b[0m \u001b[0;34m\u001b[0m\u001b[0m\n\u001b[1;32m     14\u001b[0m         \u001b[0;32mfor\u001b[0m \u001b[0mi\u001b[0m \u001b[0;32min\u001b[0m \u001b[0mrange\u001b[0m\u001b[0;34m(\u001b[0m\u001b[0;36m0\u001b[0m\u001b[0;34m,\u001b[0m \u001b[0mT\u001b[0m\u001b[0;34m)\u001b[0m\u001b[0;34m:\u001b[0m\u001b[0;34m\u001b[0m\u001b[0;34m\u001b[0m\u001b[0m\n\u001b[0;32m---> 15\u001b[0;31m             \u001b[0mtime\u001b[0m\u001b[0;34m,\u001b[0m\u001b[0mres\u001b[0m\u001b[0;34m,\u001b[0m\u001b[0mfirst\u001b[0m\u001b[0;34m=\u001b[0m \u001b[0mrun_program\u001b[0m\u001b[0;34m(\u001b[0m\u001b[0mexp\u001b[0m\u001b[0;34m[\u001b[0m\u001b[0;36m5\u001b[0m\u001b[0;34m]\u001b[0m\u001b[0;34m,\u001b[0m \u001b[0mexp\u001b[0m\u001b[0;34m[\u001b[0m\u001b[0;36m6\u001b[0m\u001b[0;34m]\u001b[0m\u001b[0;34m,\u001b[0m\u001b[0mexp\u001b[0m\u001b[0;34m[\u001b[0m\u001b[0;36m7\u001b[0m\u001b[0;34m]\u001b[0m\u001b[0;34m,\u001b[0m\u001b[0mexp\u001b[0m\u001b[0;34m[\u001b[0m\u001b[0;36m8\u001b[0m\u001b[0;34m]\u001b[0m\u001b[0;34m,\u001b[0m\u001b[0mexp\u001b[0m\u001b[0;34m[\u001b[0m\u001b[0;36m9\u001b[0m\u001b[0;34m]\u001b[0m\u001b[0;34m)\u001b[0m\u001b[0;34m\u001b[0m\u001b[0;34m\u001b[0m\u001b[0m\n\u001b[0m\u001b[1;32m     16\u001b[0m             \u001b[0mtimes\u001b[0m\u001b[0;34m.\u001b[0m\u001b[0mappend\u001b[0m\u001b[0;34m(\u001b[0m\u001b[0mtime\u001b[0m\u001b[0;34m)\u001b[0m\u001b[0;34m\u001b[0m\u001b[0;34m\u001b[0m\u001b[0m\n\u001b[1;32m     17\u001b[0m \u001b[0;34m\u001b[0m\u001b[0m\n",
      "\u001b[0;32m/tmp/ipykernel_7097/260773781.py\u001b[0m in \u001b[0;36mrun_program\u001b[0;34m(test_file, method, n, k, v)\u001b[0m\n\u001b[1;32m     17\u001b[0m     \u001b[0mresult\u001b[0m \u001b[0;34m=\u001b[0m \u001b[0mstr\u001b[0m\u001b[0;34m(\u001b[0m\u001b[0mproc\u001b[0m\u001b[0;34m.\u001b[0m\u001b[0mstdout\u001b[0m\u001b[0;34m.\u001b[0m\u001b[0mread\u001b[0m\u001b[0;34m(\u001b[0m\u001b[0;34m)\u001b[0m\u001b[0;34m)\u001b[0m\u001b[0;34m\u001b[0m\u001b[0;34m\u001b[0m\u001b[0m\n\u001b[1;32m     18\u001b[0m     \u001b[0;31m#mandamos error de ser necesario\u001b[0m\u001b[0;34m\u001b[0m\u001b[0;34m\u001b[0m\u001b[0;34m\u001b[0m\u001b[0m\n\u001b[0;32m---> 19\u001b[0;31m     \u001b[0;32mif\u001b[0m \u001b[0mexit_code\u001b[0m \u001b[0;34m!=\u001b[0m \u001b[0;36m0\u001b[0m\u001b[0;34m:\u001b[0m \u001b[0;32mraise\u001b[0m \u001b[0mRuntimeError\u001b[0m\u001b[0;34m(\u001b[0m\u001b[0;34mF\"Hubo un error en la experimentacion para el algoritmo: {method} con la instancia {test_file}.\"\u001b[0m\u001b[0;34m)\u001b[0m\u001b[0;34m\u001b[0m\u001b[0;34m\u001b[0m\u001b[0m\n\u001b[0m\u001b[1;32m     20\u001b[0m \u001b[0;34m\u001b[0m\u001b[0m\n\u001b[1;32m     21\u001b[0m     \u001b[0mresult\u001b[0m\u001b[0;34m=\u001b[0m \u001b[0mresult\u001b[0m\u001b[0;34m.\u001b[0m\u001b[0mrsplit\u001b[0m\u001b[0;34m(\u001b[0m\u001b[0;34m\"\\n\"\u001b[0m\u001b[0;34m,\u001b[0m \u001b[0;36m2\u001b[0m\u001b[0;34m)\u001b[0m\u001b[0;34m\u001b[0m\u001b[0;34m\u001b[0m\u001b[0m\n",
      "\u001b[0;31mRuntimeError\u001b[0m: Hubo un error en la experimentacion para el algoritmo: ts con la instancia instancias/gr96.txt."
     ]
    }
   ],
   "source": [
    "experiments = [] #vaciamos lista para llenarla con los datos que queremos\n",
    "n=0\n",
    "k=0\n",
    "v=0\n",
    "limite = 100\n",
    "sin_limite = False\n",
    "exp_name = \"ejemplo\"\n",
    "familia = \"gr\" #ESTA FAMILIA ES UNA DE LAS TANTAS DE LA WEB QUE NOS DIERON\n",
    "#primero observamos el indice\n",
    "df_data = pd.read_csv(\"instancias\"+\"/indice.csv\")\n",
    "#Ahora filtramos la informacion para quedarnos con las instancias que queramos\n",
    "df_data = df_data[df_data[\"familia\"]==familia]#para esto podemos usar la columna \"familia\"\n",
    "\n",
    "#Ahora recorremos nuestro df con los exp a correr\n",
    "for k in range(0, len(df_data)):\n",
    "    row_k = df_data.iloc[k]\n",
    "    if(sin_limite or int(re.search(r'\\d+', row_k[\"nombre\"])[0])< limite):\n",
    "        #Ejemplo de cargar en el buffer una corrida con hg y otra con hagm, podrian agregar lo que quieran aca, se van a correr uno tras el otro\n",
    "#         experiments.append([row_k[\"nombre\"],row_k[\"familia\"], row_k[\"n\"], row_k[\"m\"], row_k[\"resultado\"],row_k[\"path\"],\"bl\",0,0,0])\n",
    "        experiments.append([row_k[\"nombre\"],row_k[\"familia\"], row_k[\"n\"], row_k[\"m\"], row_k[\"resultado\"],row_k[\"path\"],\"ts\",10,10,10])\n",
    "    #llenamos el buffer de exps...\n",
    "\n",
    "run_experiments(exp_name)"
   ]
  },
  {
   "cell_type": "markdown",
   "id": "2ff8ddc1",
   "metadata": {},
   "source": [
    "## corridas particulares"
   ]
  },
  {
   "cell_type": "code",
   "execution_count": 86,
   "id": "ce4313b9",
   "metadata": {},
   "outputs": [
    {
     "ename": "FileNotFoundError",
     "evalue": "[Errno 2] No such file or directory: '../src/tp2'",
     "output_type": "error",
     "traceback": [
      "\u001b[0;31m---------------------------------------------------------------------------\u001b[0m",
      "\u001b[0;31mFileNotFoundError\u001b[0m                         Traceback (most recent call last)",
      "\u001b[0;32m/tmp/ipykernel_7097/2923493845.py\u001b[0m in \u001b[0;36m<module>\u001b[0;34m\u001b[0m\n\u001b[1;32m      5\u001b[0m \u001b[0mstart\u001b[0m \u001b[0;34m=\u001b[0m \u001b[0mtime\u001b[0m\u001b[0;34m.\u001b[0m\u001b[0mtime\u001b[0m\u001b[0;34m(\u001b[0m\u001b[0;34m)\u001b[0m \u001b[0;31m#comenzamos a medir el timepo\u001b[0m\u001b[0;34m\u001b[0m\u001b[0;34m\u001b[0m\u001b[0m\n\u001b[1;32m      6\u001b[0m \u001b[0;34m\u001b[0m\u001b[0m\n\u001b[0;32m----> 7\u001b[0;31m \u001b[0mproc\u001b[0m \u001b[0;34m=\u001b[0m \u001b[0msubprocess\u001b[0m\u001b[0;34m.\u001b[0m\u001b[0mPopen\u001b[0m\u001b[0;34m(\u001b[0m\u001b[0;34m[\u001b[0m\u001b[0;34m\"../src/tp2\"\u001b[0m\u001b[0;34m,\u001b[0m\u001b[0;34m\"../python/\"\u001b[0m\u001b[0;34m+\u001b[0m\u001b[0mtest_file\u001b[0m\u001b[0;34m,\u001b[0m\u001b[0mmethod\u001b[0m\u001b[0;34m,\u001b[0m\u001b[0mstr\u001b[0m\u001b[0;34m(\u001b[0m\u001b[0;36m21\u001b[0m\u001b[0;34m)\u001b[0m\u001b[0;34m,\u001b[0m\u001b[0mstr\u001b[0m\u001b[0;34m(\u001b[0m\u001b[0;36m20\u001b[0m\u001b[0;34m)\u001b[0m\u001b[0;34m,\u001b[0m\u001b[0mstr\u001b[0m\u001b[0;34m(\u001b[0m\u001b[0;36m10\u001b[0m\u001b[0;34m)\u001b[0m\u001b[0;34m]\u001b[0m\u001b[0;34m,\u001b[0m\u001b[0mstdout\u001b[0m \u001b[0;34m=\u001b[0m \u001b[0msubprocess\u001b[0m\u001b[0;34m.\u001b[0m\u001b[0mPIPE\u001b[0m\u001b[0;34m,\u001b[0m \u001b[0mstderr\u001b[0m\u001b[0;34m=\u001b[0m\u001b[0msubprocess\u001b[0m\u001b[0;34m.\u001b[0m\u001b[0mPIPE\u001b[0m\u001b[0;34m,\u001b[0m \u001b[0mstdin\u001b[0m\u001b[0;34m=\u001b[0m\u001b[0msubprocess\u001b[0m\u001b[0;34m.\u001b[0m\u001b[0mPIPE\u001b[0m\u001b[0;34m,\u001b[0m \u001b[0muniversal_newlines\u001b[0m \u001b[0;34m=\u001b[0m \u001b[0;32mTrue\u001b[0m\u001b[0;34m)\u001b[0m \u001b[0;31m#lanzamos proceso\u001b[0m\u001b[0;34m\u001b[0m\u001b[0;34m\u001b[0m\u001b[0m\n\u001b[0m\u001b[1;32m      8\u001b[0m \u001b[0;34m\u001b[0m\u001b[0m\n\u001b[1;32m      9\u001b[0m \u001b[0mexit_code\u001b[0m \u001b[0;34m=\u001b[0m \u001b[0mproc\u001b[0m\u001b[0;34m.\u001b[0m\u001b[0mwait\u001b[0m\u001b[0;34m(\u001b[0m\u001b[0;34m)\u001b[0m\u001b[0;31m#esperamos a que el proceso termien\u001b[0m\u001b[0;34m\u001b[0m\u001b[0;34m\u001b[0m\u001b[0m\n",
      "\u001b[0;32m/usr/lib/python3.8/subprocess.py\u001b[0m in \u001b[0;36m__init__\u001b[0;34m(self, args, bufsize, executable, stdin, stdout, stderr, preexec_fn, close_fds, shell, cwd, env, universal_newlines, startupinfo, creationflags, restore_signals, start_new_session, pass_fds, encoding, errors, text)\u001b[0m\n\u001b[1;32m    856\u001b[0m                             encoding=encoding, errors=errors)\n\u001b[1;32m    857\u001b[0m \u001b[0;34m\u001b[0m\u001b[0m\n\u001b[0;32m--> 858\u001b[0;31m             self._execute_child(args, executable, preexec_fn, close_fds,\n\u001b[0m\u001b[1;32m    859\u001b[0m                                 \u001b[0mpass_fds\u001b[0m\u001b[0;34m,\u001b[0m \u001b[0mcwd\u001b[0m\u001b[0;34m,\u001b[0m \u001b[0menv\u001b[0m\u001b[0;34m,\u001b[0m\u001b[0;34m\u001b[0m\u001b[0;34m\u001b[0m\u001b[0m\n\u001b[1;32m    860\u001b[0m                                 \u001b[0mstartupinfo\u001b[0m\u001b[0;34m,\u001b[0m \u001b[0mcreationflags\u001b[0m\u001b[0;34m,\u001b[0m \u001b[0mshell\u001b[0m\u001b[0;34m,\u001b[0m\u001b[0;34m\u001b[0m\u001b[0;34m\u001b[0m\u001b[0m\n",
      "\u001b[0;32m/usr/lib/python3.8/subprocess.py\u001b[0m in \u001b[0;36m_execute_child\u001b[0;34m(self, args, executable, preexec_fn, close_fds, pass_fds, cwd, env, startupinfo, creationflags, shell, p2cread, p2cwrite, c2pread, c2pwrite, errread, errwrite, restore_signals, start_new_session)\u001b[0m\n\u001b[1;32m   1702\u001b[0m                     \u001b[0;32mif\u001b[0m \u001b[0merrno_num\u001b[0m \u001b[0;34m!=\u001b[0m \u001b[0;36m0\u001b[0m\u001b[0;34m:\u001b[0m\u001b[0;34m\u001b[0m\u001b[0;34m\u001b[0m\u001b[0m\n\u001b[1;32m   1703\u001b[0m                         \u001b[0merr_msg\u001b[0m \u001b[0;34m=\u001b[0m \u001b[0mos\u001b[0m\u001b[0;34m.\u001b[0m\u001b[0mstrerror\u001b[0m\u001b[0;34m(\u001b[0m\u001b[0merrno_num\u001b[0m\u001b[0;34m)\u001b[0m\u001b[0;34m\u001b[0m\u001b[0;34m\u001b[0m\u001b[0m\n\u001b[0;32m-> 1704\u001b[0;31m                     \u001b[0;32mraise\u001b[0m \u001b[0mchild_exception_type\u001b[0m\u001b[0;34m(\u001b[0m\u001b[0merrno_num\u001b[0m\u001b[0;34m,\u001b[0m \u001b[0merr_msg\u001b[0m\u001b[0;34m,\u001b[0m \u001b[0merr_filename\u001b[0m\u001b[0;34m)\u001b[0m\u001b[0;34m\u001b[0m\u001b[0;34m\u001b[0m\u001b[0m\n\u001b[0m\u001b[1;32m   1705\u001b[0m                 \u001b[0;32mraise\u001b[0m \u001b[0mchild_exception_type\u001b[0m\u001b[0;34m(\u001b[0m\u001b[0merr_msg\u001b[0m\u001b[0;34m)\u001b[0m\u001b[0;34m\u001b[0m\u001b[0;34m\u001b[0m\u001b[0m\n\u001b[1;32m   1706\u001b[0m \u001b[0;34m\u001b[0m\u001b[0m\n",
      "\u001b[0;31mFileNotFoundError\u001b[0m: [Errno 2] No such file or directory: '../src/tp2'"
     ]
    }
   ],
   "source": [
    "test_file = \"instancias/gr96.txt\"\n",
    "exp = \"ejemplo\"\n",
    "method= \"ts\"\n",
    "    \n",
    "start = time.time() #comenzamos a medir el timepo\n",
    "\n",
    "proc = subprocess.Popen([\"../src/tp2\",\"../python/\"+test_file,method,str(21),str(20),str(10)],stdout = subprocess.PIPE, stderr=subprocess.PIPE, stdin=subprocess.PIPE, universal_newlines = True) #lanzamos proceso\n",
    "\n",
    "exit_code = proc.wait()#esperamos a que el proceso termien\n",
    "\n",
    "end = time.time() #terminamos de medir el tiempo\n",
    "\n",
    "result = str(proc.stdout.read())\n",
    "print(result)\n",
    "#mandamos error de ser necesario \n",
    "# if exit_code != 0: raise RuntimeError(F\"Hubo un error en la experimentacion para el algoritmo: {method} con la instancia {test_file}.\")\n",
    "\n",
    "\n",
    "result = result.split(' ', 2)[1]\n",
    "result= int(result.rsplit(\"\\n\", 1)[0])\n",
    "result\n"
   ]
  },
  {
   "cell_type": "code",
   "execution_count": null,
   "id": "2220b440",
   "metadata": {},
   "outputs": [],
   "source": []
  }
 ],
 "metadata": {
  "kernelspec": {
   "display_name": "Python 3 (ipykernel)",
   "language": "python",
   "name": "python3"
  },
  "language_info": {
   "codemirror_mode": {
    "name": "ipython",
    "version": 3
   },
   "file_extension": ".py",
   "mimetype": "text/x-python",
   "name": "python",
   "nbconvert_exporter": "python",
   "pygments_lexer": "ipython3",
   "version": "3.8.10"
  }
 },
 "nbformat": 4,
 "nbformat_minor": 5
}
