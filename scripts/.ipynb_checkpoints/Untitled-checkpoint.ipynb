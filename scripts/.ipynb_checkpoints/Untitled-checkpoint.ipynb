{
 "cells": [
  {
   "cell_type": "code",
   "execution_count": 1,
   "id": "d513695c",
   "metadata": {},
   "outputs": [],
   "source": [
    "import pandas as pd\n",
    "import matplotlib.pyplot as plt\n",
    "\n",
    "f1 = open(\"./experimento_inestabilidad_1/results.txt\",\"r\")\n",
    "f2 = open(\"./experimento_inestabilidad_2/results.txt\",\"r\")\n",
    "f3 = open(\"./experimento_inestabilidad_3/results.txt\",\"r\")"
   ]
  },
  {
   "cell_type": "code",
   "execution_count": 2,
   "id": "088ab824",
   "metadata": {},
   "outputs": [],
   "source": [
    "l1 = [float(k[0:-2]) for k in list(f1)]\n",
    "l2 = [float(k[0:-2]) for k in list(f2)]\n",
    "l3 = [float(k[0:-2]) for k in list(f3)]\n",
    "\n"
   ]
  },
  {
   "cell_type": "code",
   "execution_count": 3,
   "id": "6f6ebb8d",
   "metadata": {},
   "outputs": [],
   "source": [
    "lall = [l1,l2,l3]"
   ]
  },
  {
   "cell_type": "code",
   "execution_count": 4,
   "id": "783d13ad",
   "metadata": {},
   "outputs": [],
   "source": [
    "res = []\n",
    "from statistics import mean\n",
    "for k in lall:\n",
    "    res.append(mean(k))"
   ]
  },
  {
   "cell_type": "code",
   "execution_count": 14,
   "id": "be3a488e",
   "metadata": {},
   "outputs": [
    {
     "data": {
      "text/plain": [
       "<BarContainer object of 3 artists>"
      ]
     },
     "execution_count": 14,
     "metadata": {},
     "output_type": "execute_result"
    },
    {
     "data": {
      "image/png": "[encoded data removed]",
      "text/plain": [
       "<Figure size 432x576 with 1 Axes>"
      ]
     },
     "metadata": {
      "needs_background": "light"
     },
     "output_type": "display_data"
    }
   ],
   "source": [
    "plt.figure(figsize=(6,8))\n",
    "plt.xticks([1,2,3])\n",
    "plt.xlabel(\"niveles de uniformidad\")\n",
    "plt.ylabel(\"Tiempo de ejec. (seg) promedio 10.000 corridas\")\n",
    "plt.bar(x=[\"a,b,c=33%\",\"b=33% a=66%\",\"a=100%\"],height=res)"
   ]
  },
  {
   "cell_type": "code",
   "execution_count": 16,
   "id": "54b0c6df",
   "metadata": {},
   "outputs": [
    {
     "data": {
      "text/plain": [
       "1    0.000171\n",
       "2    0.000253\n",
       "3    0.010709\n",
       "dtype: float64"
      ]
     },
     "execution_count": 16,
     "metadata": {},
     "output_type": "execute_result"
    }
   ],
   "source": [
    "pd.Series(res,index=[1,2,3])"
   ]
  },
  {
   "cell_type": "code",
   "execution_count": null,
   "id": "fd237b1a",
   "metadata": {},
   "outputs": [],
   "source": []
  }
 ],
 "metadata": {
  "kernelspec": {
   "display_name": "Python 3 (ipykernel)",
   "language": "python",
   "name": "python3"
  },
  "language_info": {
   "codemirror_mode": {
    "name": "ipython",
    "version": 3
   },
   "file_extension": ".py",
   "mimetype": "text/x-python",
   "name": "python",
   "nbconvert_exporter": "python",
   "pygments_lexer": "ipython3",
   "version": "3.8.10"
  }
 },
 "nbformat": 4,
 "nbformat_minor": 5
}
